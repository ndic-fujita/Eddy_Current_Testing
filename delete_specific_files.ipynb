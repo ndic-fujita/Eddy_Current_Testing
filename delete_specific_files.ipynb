{
 "cells": [
  {
   "cell_type": "code",
   "execution_count": 3,
   "id": "e06d4a6a-dd6e-4033-a935-3a14694118a3",
   "metadata": {},
   "outputs": [],
   "source": [
    "import os\n",
    "from openpyxl import load_workbook\n",
    "\n",
    "def delete_specific_files(folder_path):\n",
    "    # フォルダ内のExcelファイルをすべて取得\n",
    "    files = [f for f in os.listdir(folder_path) if f.endswith('.xlsx')]\n",
    "\n",
    "    # 条件に合致するファイルを削除する\n",
    "    for file in files:\n",
    "        file_path = os.path.join(folder_path, file)\n",
    "        wb = load_workbook(filename=file_path, read_only=True)\n",
    "        should_delete = False\n",
    "        for sheetname in wb.sheetnames:\n",
    "            sheet = wb[sheetname]\n",
    "            if sheet.max_row != 100 or sheet.max_column != 8:\n",
    "                should_delete = True\n",
    "                break\n",
    "\n",
    "if __name__ == \"__main__\":\n",
    "    folder_path = r\"C:\\Users\\r-fujita\\Desktop\\Phase1\\dataset_anomaly\"  # 対象のフォルダパスをここに入力してください\n",
    "    delete_specific_files(folder_path)\n"
   ]
  }
 ],
 "metadata": {
  "kernelspec": {
   "display_name": "Python 3 (ipykernel)",
   "language": "python",
   "name": "python3"
  },
  "language_info": {
   "codemirror_mode": {
    "name": "ipython",
    "version": 3
   },
   "file_extension": ".py",
   "mimetype": "text/x-python",
   "name": "python",
   "nbconvert_exporter": "python",
   "pygments_lexer": "ipython3",
   "version": "3.10.9"
  }
 },
 "nbformat": 4,
 "nbformat_minor": 5
}
