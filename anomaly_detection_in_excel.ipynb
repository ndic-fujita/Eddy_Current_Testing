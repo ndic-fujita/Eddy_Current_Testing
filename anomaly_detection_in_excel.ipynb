{
 "cells": [
  {
   "cell_type": "code",
   "execution_count": 2,
   "id": "cb253c3e-a9af-4f7e-a9d3-f6bf9431b533",
   "metadata": {},
   "outputs": [],
   "source": [
    "from openpyxl import load_workbook\n",
    "import os"
   ]
  },
  {
   "cell_type": "code",
   "execution_count": 6,
   "id": "697792db-995d-4db1-9cf5-8d2d6e2b02d7",
   "metadata": {},
   "outputs": [],
   "source": [
    "folder_path = r\"C:\\Users\\r-fujita\\Desktop\\Phase1\\dataset_anomaly\"\n",
    "excel_files = [os.path.join(folder_path, f) for f in os.listdir(folder_path) if f.endswith('.xlsx') or f.endswith('.xls')]"
   ]
  },
  {
   "cell_type": "code",
   "execution_count": 7,
   "id": "cc8f7add-fba6-4c02-bcb7-55106975321e",
   "metadata": {},
   "outputs": [],
   "source": [
    "for file in excel_files:\n",
    "    wb = load_workbook(file, data_only=True)  # data_only=Trueで数式の結果を取得する\n",
    "    for sheet_name in wb.sheetnames:\n",
    "        sheet = wb[sheet_name]\n",
    "        for row in sheet.iter_rows():\n",
    "            for cell in row:\n",
    "                if isinstance(cell.value, (int, float)):\n",
    "                    continue  # 数字の場合はスキップ\n",
    "                elif isinstance(cell.value, str) and cell.value.isdigit():\n",
    "                    continue  # 文字列で数字の場合もスキップ\n",
    "                else:\n",
    "                    print(f\"File: {file}, Sheet: {sheet_name}, Cell: {cell.coordinate}, Value: {cell.value}\")"
   ]
  }
 ],
 "metadata": {
  "kernelspec": {
   "display_name": "Python 3 (ipykernel)",
   "language": "python",
   "name": "python3"
  },
  "language_info": {
   "codemirror_mode": {
    "name": "ipython",
    "version": 3
   },
   "file_extension": ".py",
   "mimetype": "text/x-python",
   "name": "python",
   "nbconvert_exporter": "python",
   "pygments_lexer": "ipython3",
   "version": "3.10.9"
  }
 },
 "nbformat": 4,
 "nbformat_minor": 5
}
