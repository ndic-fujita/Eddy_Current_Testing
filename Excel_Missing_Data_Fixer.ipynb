{
 "cells": [
  {
   "cell_type": "code",
   "execution_count": 1,
   "id": "fa20c9b5-4227-4976-b976-ded8bc7d15c7",
   "metadata": {},
   "outputs": [],
   "source": [
    "import os\n",
    "import pandas as pd\n",
    "from tkinter import Tk, filedialog\n",
    "from tkinter.simpledialog import askstring"
   ]
  },
  {
   "cell_type": "code",
   "execution_count": 6,
   "id": "b6a0e4cd-297f-491e-8436-57a3ed4c57d7",
   "metadata": {},
   "outputs": [
    {
     "name": "stdout",
     "output_type": "stream",
     "text": [
      "欠損値の補完が完了しました。\n"
     ]
    }
   ],
   "source": [
    "# Tkinterを初期化してフォルダを選択\n",
    "root = Tk()\n",
    "root.withdraw()\n",
    "folder_selected = filedialog.askdirectory()\n",
    "\n",
    "# 欠損値を埋める関数\n",
    "def fill_missing_values(df, method):\n",
    "    if method == '前方向補完':\n",
    "        return df.fillna(method='ffill')\n",
    "    elif method == '後方向補完':\n",
    "        return df.fillna(method='bfill')\n",
    "    elif method == '0で埋める':\n",
    "        return df.fillna(0)\n",
    "    elif method == '平均値で埋める':\n",
    "        return df.fillna(df.mean())\n",
    "    elif method == '中央値で埋める':\n",
    "        return df.fillna(df.median())\n",
    "    else:\n",
    "        return df\n",
    "\n",
    "if folder_selected:\n",
    "    method = askstring(\"欠損値の補完方法\", \"次のいずれかの方法を入力してください:\\n前方向補完, 後方向補完, 0で埋める, 平均値で埋める, 中央値で埋める\")\n",
    "    \n",
    "    if method not in ['前方向補完', '後方向補完', '0で埋める', '平均値で埋める', '中央値で埋める']:\n",
    "        print(\"無効な入力です。プログラムを終了します。\")\n",
    "    else:\n",
    "        for root, dirs, files in os.walk(folder_selected):\n",
    "            for file in files:\n",
    "                if file.endswith('.xlsx') or file.endswith('.xls'):\n",
    "                    file_path = os.path.join(root, file)\n",
    "                    df = pd.read_excel(file_path, header=None)  # カラム名を自動生成しない\n",
    "                    df_filled = df.copy()\n",
    "                    \n",
    "                    df_filled = fill_missing_values(df_filled, method)\n",
    "                    df_filled.to_excel(file_path, index=False, header=False)  # カラム名を出力しない\n",
    "        print(\"欠損値の補完が完了しました。\")\n",
    "else:\n",
    "    print(\"フォルダが選択されませんでした。\")\n"
   ]
  }
 ],
 "metadata": {
  "kernelspec": {
   "display_name": "Python 3 (ipykernel)",
   "language": "python",
   "name": "python3"
  },
  "language_info": {
   "codemirror_mode": {
    "name": "ipython",
    "version": 3
   },
   "file_extension": ".py",
   "mimetype": "text/x-python",
   "name": "python",
   "nbconvert_exporter": "python",
   "pygments_lexer": "ipython3",
   "version": "3.10.9"
  }
 },
 "nbformat": 4,
 "nbformat_minor": 5
}
