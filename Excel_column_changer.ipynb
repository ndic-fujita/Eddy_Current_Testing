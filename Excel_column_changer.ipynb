{
 "cells": [
  {
   "cell_type": "code",
   "execution_count": 1,
   "id": "ef92ff52-6663-4eb4-bbe7-3032deaf85b4",
   "metadata": {},
   "outputs": [],
   "source": [
    "import os\n",
    "from openpyxl import load_workbook"
   ]
  },
  {
   "cell_type": "code",
   "execution_count": null,
   "id": "2d148c50-2bdd-478e-8ec2-a94e2458676c",
   "metadata": {},
   "outputs": [],
   "source": [
    "def rename_columns_in_excel(file_path):\n",
    "    # Excelファイルを読み込み\n",
    "    workbook = load_workbook(file_path)\n",
    "    sheet = workbook.active\n",
    "\n",
    "    # 新しいカラム名リスト\n",
    "    new_headers = ['F1_H', 'F1_V', 'F2_H', 'F2_V', 'F3_H', 'F3_V', 'Mix_H', 'Mix_V']\n",
    "\n",
    "    # 1から8列目のカラム名を変更\n",
    "    for col_num, new_header in enumerate(new_headers, start=1):\n",
    "        sheet.cell(row=1, column=col_num).value = new_header\n",
    "\n",
    "    # ファイルを上書き保存\n",
    "    workbook.save(file_path)\n",
    "\n",
    "def process_directory(directory):\n",
    "    # フォルダ内のすべてのファイルとサブフォルダを再帰的に探索\n",
    "    for root, dirs, files in os.walk(directory):\n",
    "        for file in files:\n",
    "            if file.endswith('.xlsx'):\n",
    "                file_path = os.path.join(root, file)\n",
    "                rename_columns_in_excel(file_path)\n",
    "\n",
    "# 処理したいフォルダのパスを指定\n",
    "folder_path = r\"C:\\Users\\r-fujita\\Desktop\\ET\\教師データExcel\"\n",
    "\n",
    "# フォルダ内のすべてのExcelファイルのカラム名を変更\n",
    "process_directory(folder_path)"
   ]
  }
 ],
 "metadata": {
  "kernelspec": {
   "display_name": "Python 3 (ipykernel)",
   "language": "python",
   "name": "python3"
  },
  "language_info": {
   "codemirror_mode": {
    "name": "ipython",
    "version": 3
   },
   "file_extension": ".py",
   "mimetype": "text/x-python",
   "name": "python",
   "nbconvert_exporter": "python",
   "pygments_lexer": "ipython3",
   "version": "3.10.9"
  }
 },
 "nbformat": 4,
 "nbformat_minor": 5
}
