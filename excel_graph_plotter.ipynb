{
 "cells": [
  {
   "cell_type": "code",
   "execution_count": 1,
   "id": "63e1b1aa-c2d4-4a5e-a7dc-d8f60456a5b0",
   "metadata": {},
   "outputs": [],
   "source": [
    "import os\n",
    "import pandas as pd\n",
    "import matplotlib.pyplot as plt"
   ]
  },
  {
   "cell_type": "code",
   "execution_count": 2,
   "id": "b9a224b3-3537-4b8c-84e8-a3bc088f589a",
   "metadata": {},
   "outputs": [
    {
     "name": "stdout",
     "output_type": "stream",
     "text": [
      "すべてのグラフの保存が完了しました。\n"
     ]
    }
   ],
   "source": [
    "# フォルダのパスとファイル名のリスト\n",
    "folder_path = r\"C:\\Users\\r-fujita\\Desktop\\ET\\dataset_anomaly\"  # ここにExcelファイルが入ったフォルダのパスを指定してください\n",
    "files = os.listdir(folder_path)\n",
    "files = [f for f in files if f.endswith('.xlsx') or f.endswith('.xls')]  # Excelファイルのみを対象とする場合\n",
    "\n",
    "# グラフのタイトルに対応するラベル\n",
    "graph_titles = ['F1_H', 'F1_V', 'F2_H', 'F2_V', 'F3_H', 'F3_V', 'Mix_H', 'Mix_V']\n",
    "\n",
    "# 1つのExcelファイルごとに処理を行う\n",
    "for file in files:\n",
    "    file_path = os.path.join(folder_path, file)\n",
    "    \n",
    "    # Excelファイルを読み込む\n",
    "    df = pd.read_excel(file_path)\n",
    "    \n",
    "    # 新しいfigureを作成する\n",
    "    fig, axs = plt.subplots(nrows=8, ncols=1, figsize=(8, 20))\n",
    "    \n",
    "    # 各列について処理を行う\n",
    "    for j in range(8):  # 8列のデータをプロットする\n",
    "        # 横軸を時間軸として、1列目から8列目のデータをプロットする\n",
    "        data = df.iloc[:, j]  # j番目の列のデータ\n",
    "        graph_title = f'{graph_titles[j]} - {file}'\n",
    "        \n",
    "        # グラフを描画する\n",
    "        axs[j].plot(data, label=graph_title)\n",
    "        axs[j].set_title(graph_titles[j])\n",
    "        axs[j].set_xlabel('Time')\n",
    "        axs[j].set_ylabel('Value')\n",
    "        axs[j].legend()\n",
    "    \n",
    "    # グラフのレイアウトを調整する\n",
    "    plt.tight_layout()\n",
    "    \n",
    "    # 画像ファイルとして保存する\n",
    "    output_file = os.path.splitext(file)[0] + '.png'  # 元のExcelファイルの拡張子を置き換えてPNGファイルとして保存する\n",
    "    output_path = os.path.join(folder_path, output_file)\n",
    "    plt.savefig(output_path)\n",
    "    \n",
    "    # 現在のfigureを閉じる\n",
    "    plt.close(fig)\n",
    "\n",
    "print(\"すべてのグラフの保存が完了しました。\")\n"
   ]
  }
 ],
 "metadata": {
  "kernelspec": {
   "display_name": "Python 3 (ipykernel)",
   "language": "python",
   "name": "python3"
  },
  "language_info": {
   "codemirror_mode": {
    "name": "ipython",
    "version": 3
   },
   "file_extension": ".py",
   "mimetype": "text/x-python",
   "name": "python",
   "nbconvert_exporter": "python",
   "pygments_lexer": "ipython3",
   "version": "3.10.9"
  }
 },
 "nbformat": 4,
 "nbformat_minor": 5
}
