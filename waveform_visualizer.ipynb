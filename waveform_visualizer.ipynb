{
 "cells": [
  {
   "cell_type": "code",
   "execution_count": 2,
   "id": "e40ba957-a56c-47c9-9d18-15846ec2e30c",
   "metadata": {},
   "outputs": [],
   "source": [
    "import os\n",
    "import pandas as pd\n",
    "import matplotlib.pyplot as plt\n",
    "\n",
    "def visualize_waveform_data(data_dir):\n",
    "    \"\"\"\n",
    "    dataset_anomaly フォルダ内の教師データを画像化します。\n",
    "    各ファイルの8チャネルのデータをサブプロットに配置し、奇数列を左側に、偶数列を右側に配置します。\n",
    "\n",
    "    Args:\n",
    "        data_dir (str): データディレクトリのパス\n",
    "    \"\"\"\n",
    "    anomaly_dir = os.path.join(data_dir, 'dataset_anomaly')\n",
    "    for filename in os.listdir(anomaly_dir):\n",
    "        if filename.endswith('.xlsx'):\n",
    "            filepath = os.path.join(anomaly_dir, filename)\n",
    "            try:\n",
    "                # Excelファイルを読み込み\n",
    "                df = pd.read_excel(filepath, header=None)  # ヘッダーなし\n",
    "\n",
    "                # サブプロットを作成\n",
    "                fig, axs = plt.subplots(4, 2, figsize=(10, 8))  # 4行2列のサブプロット、画像サイズを調整\n",
    "\n",
    "                # 8チャネルのデータをサブプロットにプロット\n",
    "                for i in range(8):\n",
    "                    row = i // 2  # 行番号を計算\n",
    "                    col = i % 2   # 列番号を計算\n",
    "                    axs[row, col].plot(df.iloc[:, i])  # i列目のデータをプロット\n",
    "                    axs[row, col].set_title(f\"Channel {i+1}\")  # サブプロットのタイトルにチャネル番号を追加\n",
    "                    axs[row, col].set_xlabel(\"Data Point\")\n",
    "                    axs[row, col].set_ylabel(\"Amplitude\")\n",
    "\n",
    "                # 画像を保存\n",
    "                save_dir = os.path.join(data_dir, 'anomaly_images')  # 保存先ディレクトリ\n",
    "                os.makedirs(save_dir, exist_ok=True)  # ディレクトリが存在しない場合は作成\n",
    "                save_path = os.path.join(save_dir, f\"{filename[:-5]}.png\")  # 保存ファイル名\n",
    "                plt.suptitle(filename)  # 画像全体のタイトルにファイル名を追加\n",
    "                plt.tight_layout()  # サブプロットのレイアウトを調整\n",
    "                plt.savefig(save_path)\n",
    "                plt.close()  # メモリリークを防ぐために、plt.close() を追加\n",
    "\n",
    "            except Exception as e:\n",
    "                print(f\"Error processing {filename}: {e}\")\n",
    "\n",
    "if __name__ == \"__main__\":\n",
    "    data_dir = r\"C:\\Users\\r-fujita\\Desktop\\Phase3\"\n",
    "    visualize_waveform_data(data_dir)"
   ]
  }
 ],
 "metadata": {
  "kernelspec": {
   "display_name": "Python 3 (ipykernel)",
   "language": "python",
   "name": "python3"
  },
  "language_info": {
   "codemirror_mode": {
    "name": "ipython",
    "version": 3
   },
   "file_extension": ".py",
   "mimetype": "text/x-python",
   "name": "python",
   "nbconvert_exporter": "python",
   "pygments_lexer": "ipython3",
   "version": "3.10.9"
  }
 },
 "nbformat": 4,
 "nbformat_minor": 5
}
