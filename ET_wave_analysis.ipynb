{
 "cells": [
  {
   "cell_type": "code",
   "execution_count": 1,
   "id": "db17b57e-9a54-44ea-8367-d8dd3604a4f9",
   "metadata": {},
   "outputs": [],
   "source": [
    "import tkinter as tk\n",
    "from tkinter import filedialog\n",
    "import os\n",
    "import numpy as np\n",
    "import re\n",
    "from sklearn.preprocessing import StandardScaler\n",
    "import tensorflow as tf\n",
    "from tensorflow.keras.layers import Input, Conv1D, MaxPooling1D, UpSampling1D\n",
    "from tensorflow.keras.models import Model\n",
    "from tensorflow.keras.optimizers import Adam"
   ]
  },
  {
   "cell_type": "code",
   "execution_count": 3,
   "id": "9983bb6b-5f6b-40e0-97f3-00991efca0d0",
   "metadata": {},
   "outputs": [],
   "source": [
    "# 符号付に変換する関数\n",
    "def unsigned2signed(x):\n",
    "    if x > 32767:\n",
    "        return x - 65536\n",
    "    return x"
   ]
  },
  {
   "cell_type": "code",
   "execution_count": 4,
   "id": "7f95836b-b380-42d6-81cc-ab62c577bd4e",
   "metadata": {},
   "outputs": [
    {
     "name": "stdout",
     "output_type": "stream",
     "text": [
      "選択したフォルダ: C:/Users/r-fujita/Desktop/FCC_E-2316B\n",
      "データの読み込みが完了しました。\n"
     ]
    }
   ],
   "source": [
    "# 学習データの読み込み\n",
    "def load_binary_data(folder_path):\n",
    "    data = {}  # ファイルの拡張子と数字を除いたフルパスをキーとしたディクショナリ\n",
    "    file_names = []  # ファイル名を格納するリスト\n",
    "\n",
    "    for root, dirs, files in os.walk(folder_path):\n",
    "        for file in files:\n",
    "            match = re.match(r'(.+?)\\.d(\\d+)', file)  # 正規表現で.d○○の形式のファイル名を捉える\n",
    "            if match:\n",
    "                file_name, data_index = match.groups()\n",
    "                data_index = int(data_index)\n",
    "                full_path = os.path.join(root, file)  # フルパス\n",
    "                full_path_key = full_path[:-4]  # 拡張子と数字を除いたフルパス\n",
    "                if full_path_key not in data or data_index > data[full_path_key][8]:\n",
    "                    with open(full_path, 'rb') as in_file:\n",
    "                        buf = in_file.read()\n",
    "                    # 8つのセンサーデータをグループ化\n",
    "                    sensor_data = [buf[i:i+8*2] for i in range(408, len(buf), 8*2)]\n",
    "                    sensor_values = []  # センサーデータを格納するリスト\n",
    "                    for i in range(8):\n",
    "                        sensor_values.append([unsigned2signed(int.from_bytes(sensor[i*2:i*2+2], 'little')) for sensor in sensor_data])\n",
    "                    # 拡張子の番号を追加してデータをタプルに格納\n",
    "                    sensor_values.append(int(data_index))\n",
    "                    data[full_path_key] = sensor_values  # センサーデータと拡張子の番号をタプルに格納\n",
    "                    file_names.append(file_name)  # ファイル名をリストに追加\n",
    "\n",
    "    return data, file_names\n",
    "\n",
    "# Tkinterを初期化\n",
    "root = tk.Tk()\n",
    "root.withdraw()  # メインウィンドウを非表示にする\n",
    "\n",
    "# フォルダを選択するためのダイアログを表示\n",
    "folder_selected = filedialog.askdirectory()\n",
    "\n",
    "if folder_selected:\n",
    "    print(\"選択したフォルダ:\", folder_selected)\n",
    "    # フォルダ内のデータを読み込む\n",
    "    data, data_filenames = load_binary_data(folder_selected)\n",
    "    if data:\n",
    "        print(\"データの読み込みが完了しました。\")\n",
    "    else:\n",
    "        print(\"データが見つかりませんでした。\")\n",
    "else:\n",
    "    print(\"フォルダが選択されませんでした。\")\n",
    "\n",
    "# Tkinterを終了\n",
    "root.quit()\n",
    "\n",
    "sensor_data_dict = {}  # センサーデータを格納するディクショナリ\n",
    "for key, sensor_data in data.items():\n",
    "    extension_number = sensor_data[-1]  # 拡張子の番号\n",
    "    for i, sensor_value in enumerate(sensor_data[:-1]):  # 拡張子の番号を除くセンサーデータをループ\n",
    "        sensor_key = f\"{key}_{extension_number}_{i+1}\"  # キーを生成\n",
    "        if sensor_key not in sensor_data_dict:\n",
    "            sensor_data_dict[sensor_key] = []  # キーが存在しない場合、空のリストを作成\n",
    "        sensor_data_dict[sensor_key].append(sensor_value)  # キーに対応するリストにセンサーデータを追加\n",
    "\n",
    "# データの形状を決定\n",
    "num_samples = len(sensor_data_dict)\n",
    "num_sensors = 8  # センサーの数\n",
    "\n",
    "# 2次元のリストを初期化\n",
    "data_matrix = [[None] * num_sensors for _ in range(num_samples)]\n",
    "\n",
    "# センサーデータのみを保存する新しい変数を作成\n",
    "sensor_data = []\n",
    "\n",
    "# データを2次元リストと新しい変数に配置\n",
    "for i, (key, sensor_values) in enumerate(sensor_data_dict.items()):\n",
    "    data_matrix[i] = [key] + sensor_values  # キーとセンサーデータのリストを1つのリストに格納\n",
    "    sensor_data.append(sensor_values)  # センサーデータのリストを新しい変数に格納\n",
    "\n",
    "# data_matrix には各キー（インデックス）に対応するセンサーデータが格納されています\n",
    "# sensor_data にはセンサーデータのリストのみが格納されています"
   ]
  },
  {
   "cell_type": "code",
   "execution_count": 5,
   "id": "60cf9f54-0e0a-4838-97dc-cbdeba94a8d8",
   "metadata": {},
   "outputs": [
    {
     "name": "stdout",
     "output_type": "stream",
     "text": [
      "選択したテストデータのフォルダ: C:/Users/r-fujita/Desktop/テストデータ_FCC_E-2316A\n",
      "テストデータの読み込みが完了しました。\n"
     ]
    }
   ],
   "source": [
    "# テストデータの読み込み\n",
    "def load_test_data(test_folder_path):\n",
    "    test_data = {}  # ファイルの拡張子と数字を除いたフルパスをキーとしたディクショナリ\n",
    "    test_file_names = []  # ファイル名を格納するリスト\n",
    "\n",
    "    for root, dirs, files in os.walk(test_folder_path):\n",
    "        for file in files:\n",
    "            match = re.match(r'(.+?)\\.d(\\d+)', file)  # 正規表現で.d○○の形式のファイル名を捉える\n",
    "            if match:\n",
    "                file_name, data_index = match.groups()\n",
    "                data_index = int(data_index)\n",
    "                full_path = os.path.join(root, file)  # フルパス\n",
    "                full_path_key = full_path[:-4]  # 拡張子と数字を除いたフルパス\n",
    "                if full_path_key not in test_data or data_index > test_data[full_path_key][8]:\n",
    "                    with open(full_path, 'rb') as in_file:\n",
    "                        buf = in_file.read()\n",
    "                    # 8つのセンサーデータをグループ化\n",
    "                    sensor_data = [buf[i:i+8*2] for i in range(408, len(buf), 8*2)]\n",
    "                    sensor_values = []  # センサーデータを格納するリスト\n",
    "                    for i in range(8):\n",
    "                        sensor_values.append([unsigned2signed(int.from_bytes(sensor[i*2:i*2+2], 'little')) for sensor in sensor_data])\n",
    "                    # 拡張子の番号を追加してデータをタプルに格納\n",
    "                    sensor_values.append(int(data_index))\n",
    "                    test_data[full_path_key] = sensor_values  # センサーデータと拡張子の番号をタプルに格納\n",
    "                    test_file_names.append(file_name)  # ファイル名をリストに追加\n",
    "\n",
    "    return test_data, test_file_names\n",
    "\n",
    "# Tkinterを初期化\n",
    "root = tk.Tk()\n",
    "root.withdraw()  # メインウィンドウを非表示にする\n",
    "\n",
    "# テストデータのフォルダを選択するためのダイアログを表示\n",
    "test_folder_path = filedialog.askdirectory()\n",
    "\n",
    "if test_folder_path:\n",
    "    print(\"選択したテストデータのフォルダ:\", test_folder_path)\n",
    "    # テストデータを読み込む\n",
    "    test_data, test_data_filenames = load_test_data(test_folder_path)\n",
    "    if test_data:\n",
    "        print(\"テストデータの読み込みが完了しました。\")\n",
    "    else:\n",
    "        print(\"テストデータが見つかりませんでした.\")\n",
    "else:\n",
    "    print(\"テストデータのフォルダが選択されませんでした.\")\n",
    "\n",
    "test_sensor_data_dict = {}  # テストデータのセンサーデータを格納するディクショナリ\n",
    "for key, test_sensor_data in test_data.items():\n",
    "    extension_number = test_sensor_data[-1]  # 拡張子の番号\n",
    "    for i, test_sensor_value in enumerate(test_sensor_data[:-1]):  # 拡張子の番号を除くセンサーデータをループ\n",
    "        test_sensor_key = f\"{key}_{extension_number}_{i+1}\"  # キーを生成\n",
    "        if test_sensor_key not in test_sensor_data_dict:\n",
    "            test_sensor_data_dict[test_sensor_key] = []  # キーが存在しない場合、空のリストを作成\n",
    "        test_sensor_data_dict[test_sensor_key].append(test_sensor_value)  # キーに対応するリストにテストデータのセンサーデータを追加\n",
    "\n",
    "# データの形状を決定\n",
    "num_test_samples = len(test_sensor_data_dict)\n",
    "num_sensors = 8  # センサーの数\n",
    "\n",
    "# テストデータの2次元のリストを初期化\n",
    "test_data_matrix = [[None] * num_sensors for _ in range(num_test_samples)]\n",
    "\n",
    "# テストデータのセンサーデータのみを保存する新しい変数を作成\n",
    "test_sensor_data = []\n",
    "\n",
    "# テストデータを2次元リストと新しい変数に配置\n",
    "for i, (key, test_sensor_values) in enumerate(test_sensor_data_dict.items()):\n",
    "    test_data_matrix[i] = [key] + test_sensor_values  # キーとセンサーデータのリストを1つのリストに格納\n",
    "    test_sensor_data.append(test_sensor_values)  # テストデータのセンサーデータのリストを新しい変数に格納\n",
    "\n",
    "# test_data_matrix には各キー（インデックス）に対応するテストデータのセンサーデータが格納されています\n",
    "# test_sensor_data にはテストデータのセンサーデータのリストのみが格納されています\n"
   ]
  },
  {
   "cell_type": "code",
   "execution_count": 6,
   "id": "d09b0202-4555-41da-ae17-b3effa1d363b",
   "metadata": {},
   "outputs": [],
   "source": [
    "#不要な変数を削除する\n",
    "del data, data_filenames, extension_number, folder_selected, key, num_samples, num_test_samples, sensor_key, sensor_value, sensor_values, test_data, test_data_filenames, test_folder_path, test_sensor_key, test_sensor_value, test_sensor_values, i, root"
   ]
  },
  {
   "cell_type": "code",
   "execution_count": 7,
   "id": "df4a38ef-d328-4a38-ade8-b457a3eaf9a3",
   "metadata": {},
   "outputs": [],
   "source": [
    "# データ長を揃える\n",
    "# 最大の波形データ長を見つける\n",
    "max_length = max(max(len(waveform) for waveform in sensor) for sensor in sensor_data + test_sensor_data)\n",
    "\n",
    "# ゼロパディングを行う\n",
    "padded_sensor_data = []\n",
    "for sensor in sensor_data:\n",
    "    padded_sensor = []\n",
    "    for waveform in sensor:\n",
    "        # ゼロパディング\n",
    "        padding = [0] * (max_length - len(waveform))\n",
    "        padded_waveform = waveform + padding\n",
    "        padded_sensor.append(padded_waveform)\n",
    "    padded_sensor_data.append(padded_sensor)\n",
    "\n",
    "# 同じことをtest_sensor_dataにも適用\n",
    "padded_test_sensor_data = []\n",
    "for sensor in test_sensor_data:\n",
    "    padded_sensor = []\n",
    "    for waveform in sensor:\n",
    "        # ゼロパディング\n",
    "        padding = [0] * (max_length - len(waveform))\n",
    "        padded_waveform = waveform + padding\n",
    "        padded_sensor.append(padded_waveform)\n",
    "    padded_test_sensor_data.append(padded_sensor)\n",
    "\n",
    "# 学習データとテストデータをNumPyの配列に変換\n",
    "padded_sensor_data = np.array(padded_sensor_data)  # リストをNumPy配列に変換\n",
    "padded_test_sensor_data = np.array(padded_test_sensor_data)  # リストをNumPy配列に変換\n",
    "# 中間の次元（次元1）を削除して2次元に reshape\n",
    "padded_sensor_data = np.squeeze(padded_sensor_data, axis=1)\n",
    "padded_test_sensor_data = np.squeeze(padded_test_sensor_data, axis=1)\n",
    "\n",
    "\n",
    "# データの標準化\n",
    "scaler = StandardScaler()\n",
    "padded_sensor_data = scaler.fit_transform(padded_sensor_data)\n",
    "padded_test_sensor_data = scaler.transform(padded_test_sensor_data)\n",
    "\n",
    "# データの変形\n",
    "#padded_sensor_data = np.expand_dims(padded_sensor_data, axis=-1)\n",
    "#padded_test_sensor_data = np.expand_dims(padded_test_sensor_data, axis=-1)\n",
    "#padded_sensor_data = padded_sensor_data.reshape(int(len(sensor_data)/2),max_length,2)\n",
    "#padded_test_sensor_data = padded_test_sensor_data.reshape(int(len(test_sensor_data)/2),max_length,2)\n",
    "padded_sensor_data = padded_sensor_data.reshape(int(len(sensor_data)/num_sensors),max_length,num_sensors)\n",
    "padded_test_sensor_data = padded_test_sensor_data.reshape(int(len(test_sensor_data)/num_sensors),max_length,num_sensors)\n",
    "#padded_sensor_data = np.expand_dims(padded_sensor_data, axis=1)\n",
    "#padded_test_sensor_data = np.expand_dims(padded_test_sensor_data, axis=1)"
   ]
  },
  {
   "cell_type": "code",
   "execution_count": 7,
   "id": "9953c96c-99c2-4e67-a4c2-c7ecfae5637b",
   "metadata": {},
   "outputs": [],
   "source": [
    "model = tf.keras.Sequential([\n",
    "    tf.keras.layers.Input(shape=(max_length, 8)),  # 入力層のshapeを修正\n",
    "    tf.keras.layers.Conv1D(filters=8, kernel_size=3, activation='relu', padding='same'),\n",
    "    tf.keras.layers.MaxPooling1D(pool_size=2),\n",
    "    tf.keras.layers.Conv1D(filters=8, kernel_size=3, activation='relu', padding='same'),\n",
    "    tf.keras.layers.MaxPooling1D(pool_size=2),\n",
    "    tf.keras.layers.Flatten(),\n",
    "    #tf.keras.layers.Dense(64, activation='relu'),  \n",
    "    tf.keras.layers.Dense(1)  # 1つの出力ニューロン\n",
    "])"
   ]
  },
  {
   "cell_type": "code",
   "execution_count": 8,
   "id": "5f1914c8-cefe-4d44-8f13-f6cb813c5f2a",
   "metadata": {},
   "outputs": [
    {
     "name": "stdout",
     "output_type": "stream",
     "text": [
      "Model: \"sequential\"\n",
      "_________________________________________________________________\n",
      " Layer (type)                Output Shape              Param #   \n",
      "=================================================================\n",
      " conv1d (Conv1D)             (None, 17728, 8)          200       \n",
      "                                                                 \n",
      " max_pooling1d (MaxPooling1D  (None, 8864, 8)          0         \n",
      " )                                                               \n",
      "                                                                 \n",
      " conv1d_1 (Conv1D)           (None, 8864, 8)           200       \n",
      "                                                                 \n",
      " max_pooling1d_1 (MaxPooling  (None, 4432, 8)          0         \n",
      " 1D)                                                             \n",
      "                                                                 \n",
      " flatten (Flatten)           (None, 35456)             0         \n",
      "                                                                 \n",
      " dense (Dense)               (None, 1)                 35457     \n",
      "                                                                 \n",
      "=================================================================\n",
      "Total params: 35,857\n",
      "Trainable params: 35,857\n",
      "Non-trainable params: 0\n",
      "_________________________________________________________________\n"
     ]
    }
   ],
   "source": [
    "model.summary()"
   ]
  },
  {
   "cell_type": "code",
   "execution_count": 10,
   "id": "a6f3b3ec-a4eb-4bd6-9b9b-d50b6d34914e",
   "metadata": {},
   "outputs": [],
   "source": [
    "# モデルのコンパイル\n",
    "model.compile(optimizer='adam', loss='mse')  # 平均二乗誤差を損失関数とする"
   ]
  },
  {
   "cell_type": "code",
   "execution_count": 11,
   "id": "85c40fea-8a1e-4fe4-8190-a2593ff31c1e",
   "metadata": {
    "scrolled": true
   },
   "outputs": [
    {
     "name": "stdout",
     "output_type": "stream",
     "text": [
      "Epoch 1/10\n",
      "844/844 [==============================] - 8s 4ms/step - loss: 1.1629\n",
      "Epoch 2/10\n",
      "844/844 [==============================] - 3s 4ms/step - loss: 1.0021\n",
      "Epoch 3/10\n",
      "844/844 [==============================] - 3s 4ms/step - loss: 1.0004\n",
      "Epoch 4/10\n",
      "844/844 [==============================] - 3s 4ms/step - loss: 0.9890\n",
      "Epoch 5/10\n",
      "844/844 [==============================] - 3s 4ms/step - loss: 0.9807\n",
      "Epoch 6/10\n",
      "844/844 [==============================] - 3s 4ms/step - loss: 0.9980\n",
      "Epoch 7/10\n",
      "844/844 [==============================] - 3s 4ms/step - loss: 0.9980\n",
      "Epoch 8/10\n",
      "844/844 [==============================] - 3s 4ms/step - loss: 0.9934\n",
      "Epoch 9/10\n",
      "844/844 [==============================] - 3s 4ms/step - loss: 0.9838\n",
      "Epoch 10/10\n",
      "844/844 [==============================] - 3s 4ms/step - loss: 0.9783\n"
     ]
    },
    {
     "data": {
      "text/plain": [
       "<keras.callbacks.History at 0x2a29fa6c5e0>"
      ]
     },
     "execution_count": 11,
     "metadata": {},
     "output_type": "execute_result"
    }
   ],
   "source": [
    "# モデルの訓練\n",
    "model.fit(padded_sensor_data, padded_sensor_data, epochs=10, batch_size=1)"
   ]
  },
  {
   "cell_type": "code",
   "execution_count": 21,
   "id": "8ae84863-23c8-4d3e-a4d7-c00c50e09d1c",
   "metadata": {},
   "outputs": [
    {
     "name": "stdout",
     "output_type": "stream",
     "text": [
      "29/29 [==============================] - 0s 11ms/step\n",
      "検出された異常データ数: 26\n",
      "検出された異常データ数: [ 12  78 111 216 226 240 308 377 438 448 462 495 521 576 591 599 616 646\n",
      " 657 697 737 738 804 822 884 900]\n"
     ]
    }
   ],
   "source": [
    "# テストデータでの異常スコアの計算\n",
    "anomaly_scores = model.predict(padded_test_sensor_data)\n",
    "\n",
    "# 閾値を設定して異常と正常を分離\n",
    "threshold = 0.05\n",
    "anomaly_indices = np.where(anomaly_scores > threshold)[0]\n",
    "anomalies = [padded_test_sensor_data[i] for i in anomaly_indices]\n",
    "print(\"検出された異常データ数:\", len(anomaly_indices))\n",
    "print(\"検出された異常データのインデックス:\", anomaly_indices)"
   ]
  },
  {
   "cell_type": "code",
   "execution_count": 13,
   "id": "9add1fab-545f-4bd9-81b9-45788d7f7d31",
   "metadata": {
    "scrolled": true
   },
   "outputs": [
    {
     "name": "stdout",
     "output_type": "stream",
     "text": [
      "検出された異常データのインデックス: ['C:/Users/r-fujita/Desktop/テストデータ_FCC_E-2316A\\\\2019\\\\#1\\\\ASSORT\\\\E-2316A\\\\APD000\\\\001-002_0_5', 'C:/Users/r-fujita/Desktop/テストデータ_FCC_E-2316A\\\\2019\\\\#1\\\\ASSORT\\\\E-2316A\\\\APD000\\\\001-010_1_7', 'C:/Users/r-fujita/Desktop/テストデータ_FCC_E-2316A\\\\2019\\\\#1\\\\ASSORT\\\\E-2316A\\\\APD000\\\\001-014_0_8', 'C:/Users/r-fujita/Desktop/テストデータ_FCC_E-2316A\\\\2019\\\\#1\\\\ASSORT\\\\E-2316A\\\\APD000\\\\002-006_0_1', 'C:/Users/r-fujita/Desktop/テストデータ_FCC_E-2316A\\\\2019\\\\#1\\\\ASSORT\\\\E-2316A\\\\APD000\\\\002-007_0_3', 'C:/Users/r-fujita/Desktop/テストデータ_FCC_E-2316A\\\\2019\\\\#1\\\\ASSORT\\\\E-2316A\\\\APD000\\\\002-009_0_1', 'C:/Users/r-fujita/Desktop/テストデータ_FCC_E-2316A\\\\2019\\\\#1\\\\ASSORT\\\\E-2316A\\\\APD000\\\\002-017_0_5', 'C:/Users/r-fujita/Desktop/テストデータ_FCC_E-2316A\\\\2019\\\\#1\\\\ASSORT\\\\E-2316A\\\\APD000\\\\002-026_0_2', 'C:/Users/r-fujita/Desktop/テストデータ_FCC_E-2316A\\\\2019\\\\#1\\\\ASSORT\\\\E-2316A\\\\APD000\\\\003-007_0_7', 'C:/Users/r-fujita/Desktop/テストデータ_FCC_E-2316A\\\\2019\\\\#1\\\\ASSORT\\\\E-2316A\\\\APD000\\\\003-009_0_1', 'C:/Users/r-fujita/Desktop/テストデータ_FCC_E-2316A\\\\2019\\\\#1\\\\ASSORT\\\\E-2316A\\\\APD000\\\\003-010_0_7', 'C:/Users/r-fujita/Desktop/テストデータ_FCC_E-2316A\\\\2019\\\\#1\\\\ASSORT\\\\E-2316A\\\\APD000\\\\003-014_0_8', 'C:/Users/r-fujita/Desktop/テストデータ_FCC_E-2316A\\\\2019\\\\#1\\\\ASSORT\\\\E-2316A\\\\APD000\\\\003-018_0_2', 'C:/Users/r-fujita/Desktop/テストデータ_FCC_E-2316A\\\\2019\\\\#1\\\\ASSORT\\\\E-2316A\\\\APD000\\\\003-025_0_1', 'C:/Users/r-fujita/Desktop/テストデータ_FCC_E-2316A\\\\2019\\\\#1\\\\ASSORT\\\\E-2316A\\\\APD000\\\\003-026_0_8', 'C:/Users/r-fujita/Desktop/テストデータ_FCC_E-2316A\\\\2019\\\\#1\\\\ASSORT\\\\E-2316A\\\\APD000\\\\003-027_0_8', 'C:/Users/r-fujita/Desktop/テストデータ_FCC_E-2316A\\\\2019\\\\#1\\\\ASSORT\\\\E-2316A\\\\APD000\\\\004-002_0_1', 'C:/Users/r-fujita/Desktop/テストデータ_FCC_E-2316A\\\\2019\\\\#1\\\\ASSORT\\\\E-2316A\\\\APD000\\\\004-005_0_7', 'C:/Users/r-fujita/Desktop/テストデータ_FCC_E-2316A\\\\2019\\\\#1\\\\ASSORT\\\\E-2316A\\\\APD000\\\\004-007_0_2', 'C:/Users/r-fujita/Desktop/テストデータ_FCC_E-2316A\\\\2019\\\\#1\\\\ASSORT\\\\E-2316A\\\\APD000\\\\004-012_0_2', 'C:/Users/r-fujita/Desktop/テストデータ_FCC_E-2316A\\\\2019\\\\#1\\\\ASSORT\\\\E-2316A\\\\APD000\\\\004-017_0_2', 'C:/Users/r-fujita/Desktop/テストデータ_FCC_E-2316A\\\\2019\\\\#1\\\\ASSORT\\\\E-2316A\\\\APD000\\\\004-017_0_3', 'C:/Users/r-fujita/Desktop/テストデータ_FCC_E-2316A\\\\2019\\\\#1\\\\ASSORT\\\\E-2316A\\\\APD000\\\\004-025_0_5', 'C:/Users/r-fujita/Desktop/テストデータ_FCC_E-2316A\\\\2019\\\\#1\\\\ASSORT\\\\E-2316A\\\\APD000\\\\004-027_0_7', 'C:/Users/r-fujita/Desktop/テストデータ_FCC_E-2316A\\\\2019\\\\#1\\\\ASSORT\\\\E-2316A\\\\APD000\\\\005-017_0_5', 'C:/Users/r-fujita/Desktop/テストデータ_FCC_E-2316A\\\\2019\\\\#1\\\\ASSORT\\\\E-2316A\\\\APD000\\\\005-019_0_5']\n"
     ]
    }
   ],
   "source": [
    "anomaly_keys = [list(test_sensor_data_dict.keys())[i] for i in anomaly_indices]\n",
    "print(\"検出された異常データのインデックス:\", anomaly_keys)"
   ]
  },
  {
   "cell_type": "code",
   "execution_count": null,
   "id": "c84c4992-2510-4d84-ba51-963b87a73d8f",
   "metadata": {},
   "outputs": [
    {
     "name": "stdout",
     "output_type": "stream",
     "text": [
      "Epoch 1/10\n"
     ]
    }
   ],
   "source": [
    "# Stacked What-Where Autoencoderの構築\n",
    "def stacked_what_where_autoencoder(input_shape):\n",
    "    # エンコーダー\n",
    "    inputs = Input(shape=input_shape)\n",
    "    conv1 = Conv1D(filters=32, kernel_size=3, activation='relu', padding='same')(inputs)\n",
    "    pool1 = MaxPooling1D(pool_size=2)(conv1)\n",
    "    conv2 = Conv1D(filters=64, kernel_size=3, activation='relu', padding='same')(pool1)\n",
    "    pool2 = MaxPooling1D(pool_size=2)(conv2)\n",
    "    # デコーダー\n",
    "    conv3 = Conv1D(filters=64, kernel_size=3, activation='relu', padding='same')(pool2)\n",
    "    up1 = UpSampling1D(size=2)(conv3)\n",
    "    conv4 = Conv1D(filters=32, kernel_size=3, activation='relu', padding='same')(up1)\n",
    "    up2 = UpSampling1D(size=2)(conv4)\n",
    "    decoded = Conv1D(filters=input_shape[-1], kernel_size=3, activation='sigmoid', padding='same')(up2)\n",
    "\n",
    "\n",
    "    # モデルの定義\n",
    "    autoencoder = Model(inputs, decoded)\n",
    "    return autoencoder\n",
    "\n"
   ]
  },
  {
   "cell_type": "code",
   "execution_count": null,
   "id": "b289d4e5-b5e1-467f-9ea8-6483d192b078",
   "metadata": {},
   "outputs": [],
   "source": [
    "# モデルの構築\n",
    "input_shape = padded_sensor_data.shape[1:]  # データの形状\n",
    "autoencoder = stacked_what_where_autoencoder(input_shape)\n",
    "\n",
    "# モデルのコンパイル\n",
    "optimizer = Adam(learning_rate=0.001)  # 学習率を0.001に設定\n",
    "autoencoder.compile(optimizer=optimizer, loss='mean_squared_error')\n",
    "\n",
    "# モデルの学習\n",
    "autoencoder.fit(padded_sensor_data, padded_sensor_data, epochs=10, batch_size=2, shuffle=True, verbose=1)"
   ]
  },
  {
   "cell_type": "code",
   "execution_count": 8,
   "id": "d7d19af5-034d-480d-8ac4-7bb52503f2f6",
   "metadata": {},
   "outputs": [
    {
     "name": "stdout",
     "output_type": "stream",
     "text": [
      "Variable                  Type              Data/Info\n",
      "-----------------------------------------------------\n",
      "Adam                      type              <class 'keras.optimizers.optimizer_v2.adam.Adam'>\n",
      "Conv1D                    type              <class 'keras.layers.conv<...>olutional.conv1d.Conv1D'>\n",
      "Input                     function          <function Input at 0x000002637F4B0AF0>\n",
      "MaxPooling1D              type              <class 'keras.layers.pool<...>_pooling1d.MaxPooling1D'>\n",
      "Model                     type              <class 'keras.engine.training.Model'>\n",
      "StandardScaler            type              <class 'sklearn.preproces<...>ng._data.StandardScaler'>\n",
      "UpSampling1D              type              <class 'keras.layers.resh<...>sampling1d.UpSampling1D'>\n",
      "data_matrix               list              n=6752\n",
      "filedialog                module            <module 'tkinter.filedial<...>\\tkinter\\\\filedialog.py'>\n",
      "load_binary_data          function          <function load_binary_data at 0x0000026318E63490>\n",
      "load_test_data            function          <function load_test_data at 0x0000026318E63910>\n",
      "max_length                int               17728\n",
      "np                        module            <module 'numpy' from 'C:\\<...>ges\\\\numpy\\\\__init__.py'>\n",
      "num_sensors               int               8\n",
      "os                        module            <module 'os' from 'C:\\\\Pr<...>\\\\Python310\\\\lib\\\\os.py'>\n",
      "padded_sensor             list              n=1\n",
      "padded_sensor_data        ndarray           844x17728x8: 119699456 elems, type `float64`, 957595648 bytes (913.234375 Mb)\n",
      "padded_test_sensor_data   ndarray           903x17728x8: 128067072 elems, type `float64`, 1024536576 bytes (977.07421875 Mb)\n",
      "padded_waveform           list              n=17728\n",
      "padding                   list              n=6976\n",
      "re                        module            <module 're' from 'C:\\\\Pr<...>\\\\Python310\\\\lib\\\\re.py'>\n",
      "scaler                    StandardScaler    StandardScaler()\n",
      "sensor                    list              n=1\n",
      "sensor_data               list              n=6752\n",
      "sensor_data_dict          dict              n=6752\n",
      "test_data_matrix          list              n=7224\n",
      "test_sensor_data          list              n=7224\n",
      "test_sensor_data_dict     dict              n=7224\n",
      "tf                        module            <module 'tensorflow' from<...>tensorflow\\\\__init__.py'>\n",
      "tk                        module            <module 'tkinter' from 'C<...>b\\\\tkinter\\\\__init__.py'>\n",
      "unsigned2signed           function          <function unsigned2signed at 0x00000263016408B0>\n",
      "waveform                  list              n=10752\n"
     ]
    }
   ],
   "source": [
    "whos"
   ]
  },
  {
   "cell_type": "code",
   "execution_count": null,
   "id": "def10a0c-7fb4-46bf-a3d2-edc1b6732dc2",
   "metadata": {},
   "outputs": [],
   "source": []
  }
 ],
 "metadata": {
  "kernelspec": {
   "display_name": "Python 3 (ipykernel)",
   "language": "python",
   "name": "python3"
  },
  "language_info": {
   "codemirror_mode": {
    "name": "ipython",
    "version": 3
   },
   "file_extension": ".py",
   "mimetype": "text/x-python",
   "name": "python",
   "nbconvert_exporter": "python",
   "pygments_lexer": "ipython3",
   "version": "3.10.9"
  }
 },
 "nbformat": 4,
 "nbformat_minor": 5
}
