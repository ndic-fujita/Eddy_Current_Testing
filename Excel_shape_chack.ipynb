{
 "cells": [
  {
   "cell_type": "code",
   "execution_count": 3,
   "id": "8a639504-c789-41fb-b606-ae0845eaf812",
   "metadata": {},
   "outputs": [],
   "source": [
    "import os\n",
    "import pandas as pd\n",
    "\n",
    "def check_and_remove_invalid_shapes(directory):\n",
    "    for filename in os.listdir(directory):\n",
    "        if filename.endswith('.xlsx'):\n",
    "            filepath = os.path.join(directory, filename)\n",
    "            try:\n",
    "                df = pd.read_excel(filepath, header=None)\n",
    "                waveform = df.values\n",
    "                if waveform.shape != (200, 8):\n",
    "                    print(f\"Removing file with invalid shape: {filepath}\")\n",
    "                    os.remove(filepath)\n",
    "            except FileNotFoundError:\n",
    "                print(f\"File not found: {filepath}\")\n",
    "                continue\n",
    "\n",
    "# 実行例\n",
    "normal_dir = r\"C:\\Users\\r-fujita\\Desktop\\Phase2\\dataset_anomaly\"\n",
    "check_and_remove_invalid_shapes(normal_dir)"
   ]
  }
 ],
 "metadata": {
  "kernelspec": {
   "display_name": "Python 3 (ipykernel)",
   "language": "python",
   "name": "python3"
  },
  "language_info": {
   "codemirror_mode": {
    "name": "ipython",
    "version": 3
   },
   "file_extension": ".py",
   "mimetype": "text/x-python",
   "name": "python",
   "nbconvert_exporter": "python",
   "pygments_lexer": "ipython3",
   "version": "3.10.9"
  }
 },
 "nbformat": 4,
 "nbformat_minor": 5
}
